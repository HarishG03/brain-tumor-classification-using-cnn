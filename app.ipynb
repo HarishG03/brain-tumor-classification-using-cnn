{
 "cells": [
  {
   "cell_type": "code",
   "execution_count": null,
   "id": "72969234",
   "metadata": {},
   "outputs": [
    {
     "name": "stdout",
     "output_type": "stream",
     "text": [
      " * Serving Flask app '__main__'\n",
      " * Debug mode: off\n"
     ]
    },
    {
     "name": "stderr",
     "output_type": "stream",
     "text": [
      "WARNING: This is a development server. Do not use it in a production deployment. Use a production WSGI server instead.\n",
      " * Running on http://127.0.0.1:5000\n",
      "Press CTRL+C to quit\n"
     ]
    }
   ],
   "source": [
    "from flask import Flask, request, render_template\n",
    "from PIL import Image\n",
    "import numpy as np\n",
    "import tensorflow as tf\n",
    "import io\n",
    "import os\n",
    "import base64\n",
    "x= ['glioma_tumor','no_tumor','meningioma_tumor','pituitary_tumor']\n",
    "app = Flask(__name__)\n",
    "model = tf.keras.models.load_model('braintumor')\n",
    "@app.route('/',methods=['GET'])\n",
    "def home():\n",
    "    return render_template('home.html')\n",
    "@app.route('/<path:filename>')\n",
    "def serve_static(filename):\n",
    "    root_dir = os.path.dirname(os.getcwd())\n",
    "    return send_from_directory(os.path.join(root_dir, 'templates'), filename)\n",
    "@app.route('/predict', methods=['GET', 'POST'])\n",
    "def upload():\n",
    "    result_display = False \n",
    "    predict = \"\"  \n",
    "    img_data = None \n",
    "    a=False\n",
    "    b=False\n",
    "    c=False\n",
    "    if request.method == 'POST':\n",
    "        file = request.files['image']\n",
    "        if file:\n",
    "            img = Image.open(file.stream).convert('RGB')\n",
    "            img = img.resize((150, 150))\n",
    "            img_array = np.array(img)\n",
    "            img_array = np.expand_dims(img_array, axis=0)\n",
    "\n",
    "            prediction = model.predict(img_array)\n",
    "            class_index = np.argmax(prediction)\n",
    "            result_display = True\n",
    "            if class_index==0:\n",
    "                a=True\n",
    "            if class_index==2:\n",
    "                b=True\n",
    "            if class_index==3:\n",
    "                c=True\n",
    "            if class_index == 1:\n",
    "                predict='The Person has no brain tumor'\n",
    "            else:\n",
    "                predict = 'The person has brain tumor'\n",
    "            img_byte_array = io.BytesIO()\n",
    "            img.save(img_byte_array, format='PNG')\n",
    "            img_data = base64.b64encode(img_byte_array.getvalue()).decode('utf-8')\n",
    "\n",
    "    return render_template('index.html', result_display=result_display, predict=predict, img_data=img_data,a=a,b=b,c=c) \n",
    "\n",
    "if __name__ == \"__main__\":\n",
    "    app.run()\n",
    "    "
   ]
  },
  {
   "cell_type": "code",
   "execution_count": null,
   "id": "a31dab25",
   "metadata": {},
   "outputs": [],
   "source": []
  },
  {
   "cell_type": "code",
   "execution_count": null,
   "id": "2e5d9517",
   "metadata": {},
   "outputs": [],
   "source": []
  },
  {
   "cell_type": "code",
   "execution_count": null,
   "id": "af7c1f1c",
   "metadata": {},
   "outputs": [],
   "source": []
  },
  {
   "cell_type": "code",
   "execution_count": null,
   "id": "fd14b22d",
   "metadata": {},
   "outputs": [],
   "source": []
  },
  {
   "cell_type": "code",
   "execution_count": null,
   "id": "05dd1bc0",
   "metadata": {},
   "outputs": [],
   "source": []
  }
 ],
 "metadata": {
  "kernelspec": {
   "display_name": "Python 3 (ipykernel)",
   "language": "python",
   "name": "python3"
  },
  "language_info": {
   "codemirror_mode": {
    "name": "ipython",
    "version": 3
   },
   "file_extension": ".py",
   "mimetype": "text/x-python",
   "name": "python",
   "nbconvert_exporter": "python",
   "pygments_lexer": "ipython3",
   "version": "3.11.4"
  }
 },
 "nbformat": 4,
 "nbformat_minor": 5
}
